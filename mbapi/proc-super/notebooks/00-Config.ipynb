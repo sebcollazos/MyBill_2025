{
 "cells": [
  {
   "cell_type": "code",
   "execution_count": 1,
   "metadata": {},
   "outputs": [],
   "source": [
    "import pandas as pd\n",
    "import json\n",
    "from pandas import DataFrame"
   ]
  },
  {
   "cell_type": "code",
   "execution_count": 2,
   "metadata": {},
   "outputs": [],
   "source": [
    "def download(url, file_name):\n",
    "    print(url + file_name)\n",
    "    #wget.download(url + file_name, 'downloads/' + file_name) \n",
    "\n",
    "def showLinks(x):\n",
    "    #download(x.baseURL, x.files)\n",
    "    #print(x.baseURL + x.files)\n",
    "    \n",
    "    file_name = './downloads/' + x.files\n",
    "    xls = pd.ExcelFile(file_name)\n",
    "    #print(xls.sheet_names)\n",
    "    \n",
    "    #['Carátula', 'ESF', 'ERI', 'ORI', 'EFE']\n",
    "    # to read just one sheet to dataframe:\n",
    "    caratula = pd.read_excel(file_name, sheet_name=\"Carátula\")\n",
    "\n",
    "    #df1 = pd.read_excel(xls, 'Sheet1')\n",
    "    #df2 = pd.read_excel(xls, 'Sheet2')\n",
    "    caratula.head()\n"
   ]
  },
  {
   "cell_type": "code",
   "execution_count": 7,
   "metadata": {},
   "outputs": [
    {
     "name": "stdout",
     "output_type": "stream",
     "text": [
      "{'baseURL': 'https://www.supersociedades.gov.co/delegatura_aec/Documents/2020/', 'files': ['Plenas-Individuales.xlsx']}\n"
     ]
    }
   ],
   "source": [
    "baseURL = 'https://www.supersociedades.gov.co/delegatura_aec/Documents/2020/'\n",
    "\n",
    "#        'Plenas-Individuales.xlsx','Plenas-Separados.xlsx','Pymes-Individuales.xlsx','Pymes-Separados.xlsx'           \n",
    "\n",
    "config = {\n",
    "    'baseURL' : baseURL,\n",
    "    'files': [\n",
    "        'Plenas-Individuales.xlsx'          \n",
    "    ]\n",
    "}\n",
    "\n",
    "with open('config.json', 'w') as f:\n",
    "    json.dump(config, f)\n",
    "\n",
    "print (config)"
   ]
  },
  {
   "cell_type": "code",
   "execution_count": 8,
   "metadata": {},
   "outputs": [],
   "source": [
    "df = DataFrame(config, columns= ['baseURL', 'files'])"
   ]
  },
  {
   "cell_type": "code",
   "execution_count": 9,
   "metadata": {},
   "outputs": [
    {
     "name": "stdout",
     "output_type": "stream",
     "text": [
      "                                             baseURL                     files\n",
      "0  https://www.supersociedades.gov.co/delegatura_...  Plenas-Individuales.xlsx\n"
     ]
    }
   ],
   "source": [
    "print(df)"
   ]
  },
  {
   "cell_type": "code",
   "execution_count": 10,
   "metadata": {},
   "outputs": [],
   "source": [
    "#df.apply(showLinks, axis=1)"
   ]
  },
  {
   "cell_type": "code",
   "execution_count": null,
   "metadata": {},
   "outputs": [],
   "source": []
  }
 ],
 "metadata": {
  "kernelspec": {
   "display_name": "Python 3",
   "language": "python",
   "name": "python3"
  },
  "language_info": {
   "codemirror_mode": {
    "name": "ipython",
    "version": 3
   },
   "file_extension": ".py",
   "mimetype": "text/x-python",
   "name": "python",
   "nbconvert_exporter": "python",
   "pygments_lexer": "ipython3",
   "version": "3.8.5"
  }
 },
 "nbformat": 4,
 "nbformat_minor": 4
}
